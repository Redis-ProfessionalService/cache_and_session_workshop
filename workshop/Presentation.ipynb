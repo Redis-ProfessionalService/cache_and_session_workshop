{
 "cells": [
  {
   "cell_type": "markdown",
   "metadata": {},
   "source": [
    "# Caching, Session Storage, and Search Workshop\n",
    "## Hands-on workshop\n",
    "\n",
    "![diagram of session storage on external DB](img/SessionStore.png)\n",
    "\n",
    "Presented to Discover Financial Services, August 13, 2025"
   ]
  },
  {
   "cell_type": "markdown",
   "metadata": {},
   "source": [
    "This environment already has a Redis database up and running. It's currently empty, and you can see the DB and the progress we make going through the lab by using the **INSIGHT** link on the starting page. (Where you initially clicked **IDE**.)\n",
    "\n",
    "![picture of the buttons on the starting screen](img/insight.png)\n",
    "\n",
    "We'll start by loading some sample data into our DB so we have somewhere to search.  \n",
    "Run the next code snippet to populate the DB."
   ]
  },
  {
   "cell_type": "code",
   "execution_count": null,
   "metadata": {},
   "outputs": [],
   "source": [
    "%run load_restaurants\n",
    "\n",
    "import load_sessions \n",
    "from load_sessions import LoadSessions \n",
    "\n",
    "#import importlib\n",
    "#importlib.reload(load_sessions)\n",
    "\n",
    "load_sessions.LoadSessions.load_premade()\n",
    "load_sessions.LoadSessions.load_session(25)\n"
   ]
  },
  {
   "cell_type": "markdown",
   "metadata": {},
   "source": [
    "### GeoSearch\n",
    "\n",
    "Even before we get to the search and query functions, we can find locations.\n",
    "\n",
    "The following search does **not** use secondary indexing. We put a few downtown restaurants in a GeoSet.  \n",
    "This is a sorted set and each member has a score that corresponds to it's geolocation. Queries are made using longitude and latitude *or* geohash values. We'll keep it easy and use lon, lat.\n",
    "\n",
    "![Ogilve Transport Center upper level](img/256px-Ogilvie_Transportation_Center.jpg)\n",
    "Let's say a customer has just arrived at Ogilve Transportation Center and they are hungry. So they get out their smart phone and search for a sit-down restaurant nearby. Say the customer is roughly mid-lobby at longitude -87.640482 and latitude 41.882414.\n",
    "\n",
    "Remember, this search **isn't** a search - well not using the search and query function. We're just going to look through the set of downtown restaurants. So the syntax is `GEOSEARCH` rather than `FT.SEARCH` you saw in the earlier presentation.\n",
    "\n",
    "So the customer opens their app and searches for a nice restaurant. The syntax is as follows for a search by radius. (The alternative is to search within a rectangle `BYBOX`.)\n",
    "\n",
    "```\n",
    "GEOSEARCH key FROMLONLAT longitude latitude BYRADIUS radius units\n",
    "```\n",
    "\n",
    "Optionally, you can also request `ASC`ending or `DESC`ending, `WITHCOORD`inates and/or `WITHDIST`ance"
   ]
  },
  {
   "cell_type": "code",
   "execution_count": null,
   "metadata": {},
   "outputs": [],
   "source": [
    "#Here is the starting code.\n",
    "from redis_connection import RedisConnection\n",
    "redis = RedisConnection.get_client()\n",
    "\n",
    "#the geoset is named chicago_restaurants\n",
    "key_name = 'chicago_restaurants'\n",
    "# feel free to change the radius; decimal values are OK\n",
    "rad = 1\n",
    "# feel free to change the units. The only options are unit = 'mi' mile, 'km' kilometer, 'ft' feet, or 'm' meters.\n",
    "units = 'mi'\n",
    "\n",
    "redis.geosearch(key_name, longitude=-87.640482, latitude=41.882414, radius=rad, unit=units, withdist=True, withcoord=True)"
   ]
  },
  {
   "cell_type": "markdown",
   "metadata": {},
   "source": [
    "### Now let's tackle *real* search.\n",
    "\n",
    "As previously discussed, you need to analyze your data to be able to develop a meaningful search shema.\n",
    "\n",
    "Let's say our session data looks something like this:\n",
    "\n",
    "\n",
    "```json\n",
    "{\n",
    "    \"lastAccessed\":1723574040,\n",
    "    \"creation\":1723572000,\n",
    "    \"user\": {\n",
    "        \"firstname\":\"Paul\",\n",
    "        \"lastname\":\"Bunion\"\n",
    "        },\n",
    "    \"visited\":[\"www.megashop.com\",\"www.whatever.org\",\"www.progressive.com\"], \n",
    "    \"location\": \"-87.6359,41.8788\", \n",
    "    \"cart\":[\n",
    "        {\n",
    "            \"itemId\":\"bigaxe\",\n",
    "            \"itemCost\":918.99,\n",
    "            \"quantity\":2\n",
    "        }\n",
    "        {\n",
    "            \"itemID\":\"oxchow-ton\",\n",
    "            \"itemCost\":\"2449.99\"\n",
    "            \"quantity\":1\n",
    "        }\n",
    "    ]\n",
    "}\n",
    "```"
   ]
  },
  {
   "cell_type": "markdown",
   "metadata": {},
   "source": [
    "Since the session data is in JSON, we might as well store the document in JSON too. So this is the syntax:\n",
    "\n",
    "```redis\n",
    "FT.CREATE key_name ON JSON PREFIX count prefix\n",
    "\n",
    "SCHEMA\n",
    "json.path.name AS alias type\n",
    "next field...\n",
    "```\n",
    "\n",
    "For example:\n",
    "\n",
    "```redis\n",
    "FT.CREATE session:index ON JSON PREFIX 1 \"session:\"\n",
    "SCHEMA\n",
    "$.lastAccessed as lastAccessed NUMERIC SORTABLE\n",
    "$.user.firstname as first TAG\n",
    "$.user.lastname as last TAG\n",
    "$.visited as visited TEXT\n",
    "$.cart[*].itemID as itemid TAG\n",
    "$.location as location GEO\n",
    "```"
   ]
  },
  {
   "cell_type": "code",
   "execution_count": null,
   "metadata": {},
   "outputs": [],
   "source": [
    "# answer in challenge1.py\n",
    "from redis.commands.search.field import GeoField, NumericField, TextField, TagField\n",
    "from redis.commands.search.indexDefinition import IndexDefinition, IndexType\n",
    "from redis.commands.search.query import Query, NumericFilter\n",
    "\n",
    "# This presumes that \"from redis_connection import RedisConnection\" and \"redis = RedisConnection.get_client()\" have previously been run. We did that in the previous example.\n",
    "\n",
    "# >>> START CODING CHALLENGE <<<\n",
    "index_name = '' # give your index a name\n",
    "\n",
    "redis.ft(index_name).create_index(\n",
    "    (\n",
    "        NumericField(\"$.lastAccessed\", as_name=\"lastAccessed\", sortable=True),\n",
    "        TagField(\"$.user.firstname\", as_name=\"first\"),\n",
    "        # add last name\n",
    "        # add visited\n",
    "        TagField(\"$.cart[*].itemID\", as_name=\"itemid\"),\n",
    "        # GeoField(...) # add location\n",
    "    ),\n",
    "    definition=IndexDefinition(prefix=[\"session:\"], index_type=IndexType.JSON))\n",
    "# >>> END CODING CHALLENGE <<<"
   ]
  },
  {
   "cell_type": "code",
   "execution_count": null,
   "metadata": {},
   "outputs": [],
   "source": [
    "# This sample code searches for all sessions within 1 km of the entrance to OTC. \n",
    "# This example uses hard coded values but it's no big deal to receive all the parameters interactively\n",
    "# lon = -87.640482, lat = 41.882414, radius = 100, unit = 'm'\n",
    "\n",
    "index_name = 'session:index' # Change this to whatever index name you used.\n",
    "\n",
    "# the CLI syntax is \"@location:[lon lat radius unit]\" \n",
    "query = '@location:[-87.640482 41.882414 100 m]'\n",
    "# feel free to try other values, but all our sessions are downtown Chicago, so there's that.\n",
    "\n",
    "result = redis.ft(index_name).search(query)\n",
    "\n",
    "print(result)"
   ]
  },
  {
   "cell_type": "markdown",
   "metadata": {},
   "source": [
    "### Here are CLI samples for the syntax to more useful searches.\n",
    "\n",
    "You can test these examples (and much more) on the command line in Redis Insight, and/or by connecting to your Redis DB from the terminal in this IDE.\n",
    "\n",
    "```redis\n",
    "FT.SEARCH session:index '@visited:(\"redis.io\")' RETURN 1 $.visited\n",
    "\n",
    "FT.SEARCH session:index '@visited:(\"redis.io\") -@visited:(\"www.example.com\")' RETURN 1 $.visited\n",
    "\n",
    "FT.SEARCH session:index '@itemid:{roncowidget}' RETURN 0\n",
    "\n",
    "FT.SEARCH session:index '@itemid:{MacBook | roncowidget}' RETURN 0\n",
    "```"
   ]
  },
  {
   "cell_type": "markdown",
   "metadata": {},
   "source": [
    "More hypothetical examples (in python)\n",
    "\n",
    "```python\n",
    "#  sort by a sortable field in ascending order \n",
    "# (you can sort by a non-sortable field but it will be slower)\n",
    "redis.ft(index_name).search(Query('some_query').sort_by(field='length', asc=True))\n",
    "\n",
    "#  search a specific field\n",
    "#  any TEXT or TAG search can have wild cards  \n",
    "redis.ft(index_name).search(Query('@visited:*progressive*'))\n",
    "\n",
    "#  search specific fields - OR operation (name OR type matches on '*idget')\n",
    "redis.ft(index_name).search(Query('@name|type:*idget'))\n",
    "\n",
    "#  search specific fields - AND operation (space separated = AND) \n",
    "redis.ft(index_name).search(Query('@name:whatever @type:*actu*'))\n",
    "```"
   ]
  },
  {
   "cell_type": "code",
   "execution_count": null,
   "metadata": {},
   "outputs": [],
   "source": [
    "# Coding challenge 2\n",
    "# Now let's put that into practice.\n",
    "# Find the sessions that have either a superwidget or an okwidget in the shopping cart\n",
    "# AND it has been active since 1:15 pm on our hypothetical day (this Unix timestamp: 1723576500).\n",
    "# the special numeric value +inf (without any quotes) means unbounded on the upper end.\n",
    "\n",
    "index_name = 'session:index' \n",
    "\n",
    "# >>> START CODING CHALLENGE <<<\n",
    "\n",
    "# >>> END CODING CHALLENGE <<<\n",
    "\n",
    "print(result)\n"
   ]
  },
  {
   "cell_type": "code",
   "execution_count": null,
   "metadata": {},
   "outputs": [],
   "source": [
    "# Extra credit: play with additional criteria such as location, sites visited, wild card searches etc."
   ]
  }
 ],
 "metadata": {
  "language_info": {
   "name": "python"
  }
 },
 "nbformat": 4,
 "nbformat_minor": 2
}
